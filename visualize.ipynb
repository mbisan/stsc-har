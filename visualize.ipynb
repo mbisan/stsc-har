{
 "cells": [
  {
   "cell_type": "code",
   "execution_count": 1,
   "metadata": {},
   "outputs": [],
   "source": [
    "import numpy as np\n",
    "import torch\n",
    "\n",
    "import matplotlib.pyplot as plt\n",
    "\n",
    "from utils.helper_functions import load_dm\n",
    "from utils.arguments import get_parser\n",
    "\n",
    "from nets.wrapper import ContrastiveWrapper\n",
    "\n",
    "from pytorch_lightning import Trainer"
   ]
  },
  {
   "cell_type": "code",
   "execution_count": 2,
   "metadata": {},
   "outputs": [
    {
     "name": "stdout",
     "output_type": "stream",
     "text": [
      "Loaded dataset UCI-HAR with a total of 815614 observations for window size 25\n",
      "Sampling 51607 (balanced) observations per epoch.\n",
      "Using 626740 observations for training, 106617 for validation and 143333 observations for test\n"
     ]
    }
   ],
   "source": [
    "parser = get_parser()\n",
    "args = parser.parse_args('''\n",
    "--dataset UCI-HAR --batch_size 128 --window_size 25 --normalize --subjects_for_test 21 20 19 18 17 \n",
    "--max_epochs 10 --lr 0.01 --training_dir training_clr --n_val_subjects 4 --reduce_imbalance\n",
    "--encoder_architecture cnn_gap_ts --encoder_features 20 --cf 0.001 --label_mode 25 --mode clr3'''.split())\n",
    "\n",
    "dm = load_dm(args)"
   ]
  },
  {
   "cell_type": "code",
   "execution_count": 3,
   "metadata": {},
   "outputs": [
    {
     "name": "stdout",
     "output_type": "stream",
     "text": [
      "Input shape:  torch.Size([1, 6, 25])\n",
      "Latent shape:  torch.Size([1, 80])\n",
      "\n"
     ]
    },
    {
     "name": "stderr",
     "output_type": "stream",
     "text": [
      "/home/mbikandi/miniconda3/envs/dev2/lib/python3.10/site-packages/torch/nn/modules/conv.py:306: UserWarning: Using padding='same' with even kernel lengths and odd dilation may require a zero-padded copy of the input be created (Triggered internally at ../aten/src/ATen/native/Convolution.cpp:1040.)\n",
      "  return F.conv1d(input, weight, bias, self.stride,\n"
     ]
    }
   ],
   "source": [
    "model = ContrastiveWrapper.load_from_checkpoint(checkpoint_path=\"_clr/clr3_UCI-HAR_21-20-19-18-17_4_25_1_bs128_lr0.001_l10_l20_cnn_gap_ts20_mlpNone_1_m25_decay0.01/version_0/checkpoints/epoch=7-step=3112-val_re=0.0000.ckpt\")\n",
    "model.eval()\n",
    "print()"
   ]
  },
  {
   "cell_type": "code",
   "execution_count": 4,
   "metadata": {},
   "outputs": [],
   "source": [
    "labels = []\n",
    "d = 3300\n",
    "for i in range(0, d):\n",
    "    labels.append(dm.ds_test[i][\"label\"].item())"
   ]
  },
  {
   "cell_type": "code",
   "execution_count": 5,
   "metadata": {},
   "outputs": [
    {
     "name": "stderr",
     "output_type": "stream",
     "text": [
      "GPU available: False, used: False\n",
      "TPU available: False, using: 0 TPU cores\n",
      "IPU available: False, using: 0 IPUs\n",
      "HPU available: False, using: 0 HPUs\n"
     ]
    },
    {
     "name": "stdout",
     "output_type": "stream",
     "text": [
      "Testing DataLoader 0: 100%|██████████| 1120/1120 [00:06<00:00, 165.56it/s]\n",
      "────────────────────────────────────────────────────────────────────────────────────────────────────────────────────────\n",
      "       Test metric             DataLoader 0\n",
      "────────────────────────────────────────────────────────────────────────────────────────────────────────────────────────\n",
      "         test_ap            0.42473703622817993\n",
      "       test_auroc           0.9155766367912292\n",
      "       test_fpr95           0.36666956543922424\n",
      "        test_loss                   0.0\n",
      "         test_th             1.751399278640747\n",
      "────────────────────────────────────────────────────────────────────────────────────────────────────────────────────────\n"
     ]
    },
    {
     "data": {
      "text/plain": [
       "[{'test_loss': 0.0,\n",
       "  'test_fpr95': 0.36666956543922424,\n",
       "  'test_th': 1.751399278640747,\n",
       "  'test_auroc': 0.9155766367912292,\n",
       "  'test_ap': 0.42473703622817993}]"
      ]
     },
     "execution_count": 5,
     "metadata": {},
     "output_type": "execute_result"
    }
   ],
   "source": [
    "tr = Trainer()\n",
    "tr.test(datamodule=dm, model=model)"
   ]
  },
  {
   "cell_type": "code",
   "execution_count": 6,
   "metadata": {},
   "outputs": [],
   "source": [
    "normalized_rpr = torch.nn.functional.normalize(model.rpr)"
   ]
  },
  {
   "cell_type": "code",
   "execution_count": 7,
   "metadata": {},
   "outputs": [],
   "source": [
    "diff = (normalized_rpr[:-model.window_size, :] - normalized_rpr[model.window_size:, :]).square().sum(-1) + 1e-8\n",
    "dissimilarities = diff.sqrt()"
   ]
  },
  {
   "cell_type": "code",
   "execution_count": 8,
   "metadata": {},
   "outputs": [],
   "source": [
    "cumsum_diss = torch.cumsum(dissimilarities, dim=-1)"
   ]
  },
  {
   "cell_type": "code",
   "execution_count": 9,
   "metadata": {},
   "outputs": [
    {
     "data": {
      "text/plain": [
       "torch.Size([143308])"
      ]
     },
     "execution_count": 9,
     "metadata": {},
     "output_type": "execute_result"
    }
   ],
   "source": [
    "dissimilarities.shape"
   ]
  },
  {
   "cell_type": "code",
   "execution_count": 10,
   "metadata": {},
   "outputs": [],
   "source": [
    "dissimilarities_smooth = (cumsum_diss[25:] - cumsum_diss[:-25])/25"
   ]
  },
  {
   "cell_type": "code",
   "execution_count": 11,
   "metadata": {},
   "outputs": [
    {
     "data": {
      "text/plain": [
       "torch.Size([143283])"
      ]
     },
     "execution_count": 11,
     "metadata": {},
     "output_type": "execute_result"
    }
   ],
   "source": [
    "dissimilarities_smooth.shape"
   ]
  },
  {
   "cell_type": "code",
   "execution_count": 12,
   "metadata": {},
   "outputs": [],
   "source": [
    "diff_diss_diss_smooth = dissimilarities_smooth - dissimilarities[25:]"
   ]
  },
  {
   "cell_type": "code",
   "execution_count": 13,
   "metadata": {},
   "outputs": [],
   "source": [
    "kernel = 1/(1+np.power(np.arange(-9, 10), 2))"
   ]
  },
  {
   "cell_type": "code",
   "execution_count": 14,
   "metadata": {},
   "outputs": [],
   "source": [
    "new_curve = torch.nn.functional.conv1d(dissimilarities.unsqueeze(0), torch.from_numpy(kernel).float().unsqueeze(0).unsqueeze(0)).squeeze()"
   ]
  },
  {
   "cell_type": "code",
   "execution_count": 15,
   "metadata": {},
   "outputs": [
    {
     "data": {
      "text/plain": [
       "torch.Size([143290])"
      ]
     },
     "execution_count": 15,
     "metadata": {},
     "output_type": "execute_result"
    }
   ],
   "source": [
    "new_curve.shape"
   ]
  },
  {
   "cell_type": "code",
   "execution_count": 16,
   "metadata": {},
   "outputs": [
    {
     "data": {
      "text/plain": [
       "[<matplotlib.lines.Line2D at 0x7fd088f03ca0>,\n",
       " <matplotlib.lines.Line2D at 0x7fd088f02cb0>]"
      ]
     },
     "execution_count": 16,
     "metadata": {},
     "output_type": "execute_result"
    },
    {
     "data": {
      "image/png": "[encoded data removed]",
      "text/plain": [
       "<Figure size 640x480 with 1 Axes>"
      ]
     },
     "metadata": {},
     "output_type": "display_data"
    }
   ],
   "source": [
    "plt.plot(np.arange(d), new_curve[:d], np.arange(len(labels)-25), labels[25:])"
   ]
  }
 ],
 "metadata": {
  "kernelspec": {
   "display_name": "dev2",
   "language": "python",
   "name": "python3"
  },
  "language_info": {
   "codemirror_mode": {
    "name": "ipython",
    "version": 3
   },
   "file_extension": ".py",
   "mimetype": "text/x-python",
   "name": "python",
   "nbconvert_exporter": "python",
   "pygments_lexer": "ipython3",
   "version": "3.10.13"
  }
 },
 "nbformat": 4,
 "nbformat_minor": 2
}

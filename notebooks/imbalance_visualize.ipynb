{
 "cells": [
  {
   "cell_type": "code",
   "execution_count": 1,
   "metadata": {},
   "outputs": [],
   "source": [
    "import os\n",
    "\n",
    "import numpy as np\n",
    "\n",
    "import torch\n",
    "from torch import nn\n",
    "from torch.nn import functional as F\n",
    "\n",
    "import matplotlib.pyplot as plt\n",
    "\n",
    "from utils.helper_functions import load_dm\n",
    "from utils.arguments import get_parser\n",
    "\n",
    "from nets.wrapper import *\n",
    "\n",
    "from pytorch_lightning import Trainer\n",
    "\n",
    "import json\n",
    "import pandas\n",
    "\n",
    "from sklearn.metrics import confusion_matrix\n",
    "from nets.metrics import print_cm, metrics_from_cm\n",
    "\n",
    "from data.har.label_mappings import *"
   ]
  },
  {
   "cell_type": "code",
   "execution_count": 8,
   "metadata": {},
   "outputs": [],
   "source": [
    "from matplotlib import rc\n",
    "rc('font',**{'family':'serif','serif':['Times']})\n",
    "rc('text', usetex=True)"
   ]
  },
  {
   "cell_type": "code",
   "execution_count": 3,
   "metadata": {},
   "outputs": [
    {
     "name": "stdout",
     "output_type": "stream",
     "text": [
      "Loaded dataset HARTH with a total of 6256313 observations for window size 1\n",
      "Sampling 83448 (balanced) observations per epoch.\n",
      "Using 4528503 observations for training, 1225365 for validation and 502445 for test\n",
      "Loaded dataset UCI-HAR with a total of 815614 observations for window size 1\n",
      "Sampling 76008 (balanced) observations per epoch.\n",
      "Using 648917 observations for training, 106617 for validation and 85592 for test\n",
      "Loaded dataset WISDM with a total of 1098172 observations for window size 1\n",
      "Sampling 232968 (balanced) observations per epoch.\n",
      "Using 895391 observations for training, 119656 for validation and 83125 for test\n"
     ]
    }
   ],
   "source": [
    "parser = get_parser()\n",
    "args = parser.parse_args('''\n",
    "--dataset HARTH --batch_size 128 --window_size 1 --normalize --subjects_for_test 21 20 19 \n",
    "--n_val_subjects 4 --reduce_imbalance --mode ts'''.split())\n",
    "\n",
    "harthdm = load_dm(args)\n",
    "\n",
    "cl, counts = harthdm.stsds.SCS.unique(return_counts=True)\n",
    "\n",
    "parser = get_parser()\n",
    "args = parser.parse_args('''\n",
    "--dataset UCI-HAR --batch_size 128 --window_size 1 --normalize --subjects_for_test 21 20 19 \n",
    "--n_val_subjects 4 --reduce_imbalance --mode ts'''.split())\n",
    "\n",
    "ucidm = load_dm(args)\n",
    "\n",
    "uci_cl, uci_counts = ucidm.stsds.SCS.unique(return_counts=True)\n",
    "\n",
    "parser = get_parser()\n",
    "args = parser.parse_args('''\n",
    "--dataset WISDM --batch_size 128 --window_size 1 --normalize --subjects_for_test 21 20 19 \n",
    "--n_val_subjects 4 --reduce_imbalance --mode ts'''.split())\n",
    "\n",
    "wisdmdm = load_dm(args)\n",
    "\n",
    "wisdm_cl, wisdm_counts = wisdmdm.stsds.SCS.unique(return_counts=True)"
   ]
  },
  {
   "cell_type": "code",
   "execution_count": 4,
   "metadata": {},
   "outputs": [],
   "source": [
    "harth_bars = [\n",
    "    'Walk',\n",
    "    'Run',\n",
    "    'Shuffle',\n",
    "    'Stairs-up',\n",
    "    'Stairs-down',\n",
    "    'Stand',\n",
    "    'Sit',\n",
    "    'Lie',\n",
    "    'Cycle-sit',\n",
    "    'Cycle-stand',\n",
    "    'Cycle-sit-idle',\n",
    "    'Cycle-stand-idle'\n",
    "]"
   ]
  },
  {
   "cell_type": "code",
   "execution_count": 5,
   "metadata": {},
   "outputs": [],
   "source": [
    "uci_bars = ['Walk',\n",
    " 'Stairs-up',\n",
    " 'Stairs-down',\n",
    " 'Sit',\n",
    " 'Stand',\n",
    " 'Lie',\n",
    " 'Stand-Sit',\n",
    " 'Sit-Stand',\n",
    " 'Sit-Lie',\n",
    " 'Lie-Sit',\n",
    " 'Stand-Lie',\n",
    " 'Lie-Stand']"
   ]
  },
  {
   "cell_type": "code",
   "execution_count": 6,
   "metadata": {},
   "outputs": [],
   "source": [
    "wisdm_bars = [\n",
    "    \"Stairs-down\",\n",
    "    \"Run\",\n",
    "    \"Sit\",\n",
    "    \"Stand\",\n",
    "    \"Stairs-up\",\n",
    "    \"Walk\",\n",
    "]"
   ]
  },
  {
   "cell_type": "code",
   "execution_count": 21,
   "metadata": {},
   "outputs": [
    {
     "data": {
      "image/png": "[encoded data removed]",
      "text/plain": [
       "<Figure size 827x200 with 3 Axes>"
      ]
     },
     "metadata": {},
     "output_type": "display_data"
    }
   ],
   "source": [
    "fig, axes = plt.subplots(nrows=1, ncols=3, figsize=(8.27, 2))\n",
    "\n",
    "for i in range(3):\n",
    "    axes[i].set_xticks([])\n",
    "\n",
    "custom_color = (.5, .7, 1)\n",
    "\n",
    "axes[0].bar(cl, counts, color=custom_color)\n",
    "for i, value in enumerate(harth_bars):\n",
    "    axes[0].text(i, .05 * max(counts), str(value) + f\" - {(counts[i]/sum(counts))*100:.1f}\\%\", ha='center', va='bottom', rotation=90, fontsize=8)\n",
    "axes[0].set_yticks([100000, 500000, 1000000, 2000000], [\"100K\", \"500K\", \"1M\", \"2M\"], fontsize=5)\n",
    "axes[0].set_title('HARTH')\n",
    "axes[0].set_ylim([0, 1.05*max(counts)])\n",
    "\n",
    "axes[1].bar(uci_cl[uci_cl!=100], uci_counts[uci_cl!=100], color=custom_color)\n",
    "for i, value in enumerate(uci_bars):\n",
    "    axes[1].text(i, .05 * max(uci_counts[uci_cl!=100]), str(value) + f\" - {(uci_counts[i]/sum(uci_counts[uci_cl!=100]))*100:.1f}\\%\", ha='center', va='bottom', rotation=90, fontsize=8)\n",
    "axes[1].set_yticks([10000, 50000, 100000], [\"10K\", \"50K\", \"100K\"], fontsize=5)\n",
    "axes[1].set_title('UCI-HAPT')\n",
    "axes[1].set_ylim([0, 1.05*max(uci_counts[uci_cl!=100])])\n",
    "\n",
    "axes[2].bar(wisdm_cl, wisdm_counts, color=custom_color)\n",
    "for i, value in enumerate(wisdm_bars):\n",
    "    axes[2].text(i, .05 * max(wisdm_counts), str(value) + f\" - {(wisdm_counts[i]/sum(wisdm_counts))*100:.1f}\\%\", ha='center', va='bottom', rotation=90, fontsize=8)\n",
    "axes[2].set_yticks([10000, 100000, 400000], [\"10K\", \"100K\", \"400K\"], fontsize=5)\n",
    "axes[2].set_title('WISDM')\n",
    "axes[2].set_ylim([0, 1.05*max(wisdm_counts)])\n",
    "\n",
    "plt.tight_layout()\n",
    "\n",
    "plt.savefig(\"out.svg\")"
   ]
  }
 ],
 "metadata": {
  "kernelspec": {
   "display_name": "dev2",
   "language": "python",
   "name": "python3"
  },
  "language_info": {
   "codemirror_mode": {
    "name": "ipython",
    "version": 3
   },
   "file_extension": ".py",
   "mimetype": "text/x-python",
   "name": "python",
   "nbconvert_exporter": "python",
   "pygments_lexer": "ipython3",
   "version": "3.10.13"
  }
 },
 "nbformat": 4,
 "nbformat_minor": 2
}

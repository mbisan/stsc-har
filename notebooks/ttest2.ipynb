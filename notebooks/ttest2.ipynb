{
 "cells": [
  {
   "cell_type": "code",
   "execution_count": 1,
   "metadata": {},
   "outputs": [],
   "source": [
    "import numpy as np\n",
    "import torch\n",
    "\n",
    "import pandas as pd"
   ]
  },
  {
   "cell_type": "code",
   "execution_count": 2,
   "metadata": {},
   "outputs": [],
   "source": [
    "from data_2.har.har_datasets import load_dataset"
   ]
  },
  {
   "cell_type": "code",
   "execution_count": 3,
   "metadata": {},
   "outputs": [],
   "source": [
    "from data_2.har.label_mappings import ucihar_label_mapping"
   ]
  },
  {
   "cell_type": "code",
   "execution_count": 4,
   "metadata": {},
   "outputs": [],
   "source": [
    "from data_2.base import STSDataset"
   ]
  },
  {
   "cell_type": "code",
   "execution_count": 5,
   "metadata": {},
   "outputs": [],
   "source": [
    "dt = load_dataset(\"./datasets/UCI-HAPT\")"
   ]
  },
  {
   "cell_type": "code",
   "execution_count": 6,
   "metadata": {},
   "outputs": [],
   "source": [
    "dataset = STSDataset(dt, 10, 1, None, None, ucihar_label_mapping)"
   ]
  },
  {
   "cell_type": "code",
   "execution_count": 7,
   "metadata": {},
   "outputs": [
    {
     "data": {
      "text/plain": [
       "array([      0,   20598,   39884,   57910,   74475,   95469,  112962,\n",
       "        130630,  146518,  163382,  178420,  194942,  227031,  244226,\n",
       "        260254,  275804,  292160,  308404,  324025,  339764,  351365,\n",
       "        361263,  377700,  394230,  410862,  427022,  444823,  462007,\n",
       "        479470,  496029,  513208,  530386,  551458,  572597,  593900,\n",
       "        613435,  635834,  655892,  674991,  692828,  712521,  730484,\n",
       "        751290,  770774,  788706,  806258,  826323,  844309,  865031,\n",
       "        884457,  905687,  926039,  946717,  967033,  985286, 1004201,\n",
       "       1024757, 1043593, 1062244, 1080152, 1103690, 1122772])"
      ]
     },
     "execution_count": 7,
     "metadata": {},
     "output_type": "execute_result"
    }
   ],
   "source": [
    "dataset.splits"
   ]
  },
  {
   "cell_type": "code",
   "execution_count": 8,
   "metadata": {},
   "outputs": [
    {
     "data": {
      "text/plain": [
       "(1122772,)"
      ]
     },
     "execution_count": 8,
     "metadata": {},
     "output_type": "execute_result"
    }
   ],
   "source": [
    "dataset.labels.shape"
   ]
  },
  {
   "cell_type": "code",
   "execution_count": 9,
   "metadata": {},
   "outputs": [],
   "source": [
    "ids, classes = dataset.getSameClassWindowIndex()"
   ]
  },
  {
   "cell_type": "code",
   "execution_count": 17,
   "metadata": {},
   "outputs": [],
   "source": [
    "ids_CP = dataset.getChangePointIndex()"
   ]
  },
  {
   "cell_type": "code",
   "execution_count": 18,
   "metadata": {},
   "outputs": [
    {
     "data": {
      "text/plain": [
       "array([   982,   1142,   1944, ..., 814204, 814909, 815613])"
      ]
     },
     "execution_count": 18,
     "metadata": {},
     "output_type": "execute_result"
    }
   ],
   "source": [
    "ids_CP"
   ]
  },
  {
   "cell_type": "code",
   "execution_count": 19,
   "metadata": {},
   "outputs": [
    {
     "data": {
      "text/plain": [
       "259"
      ]
     },
     "execution_count": 19,
     "metadata": {},
     "output_type": "execute_result"
    }
   ],
   "source": [
    "dataset.indices[9]"
   ]
  },
  {
   "cell_type": "code",
   "execution_count": 13,
   "metadata": {},
   "outputs": [
    {
     "data": {
      "text/plain": [
       "array([4, 4, 4, ..., 1, 1, 1])"
      ]
     },
     "execution_count": 13,
     "metadata": {},
     "output_type": "execute_result"
    }
   ],
   "source": [
    "classes"
   ]
  },
  {
   "cell_type": "code",
   "execution_count": 11,
   "metadata": {},
   "outputs": [
    {
     "data": {
      "text/plain": [
       "815614"
      ]
     },
     "execution_count": 11,
     "metadata": {},
     "output_type": "execute_result"
    }
   ],
   "source": [
    "len(dataset)"
   ]
  },
  {
   "cell_type": "code",
   "execution_count": 15,
   "metadata": {},
   "outputs": [
    {
     "data": {
      "text/plain": [
       "6"
      ]
     },
     "execution_count": 15,
     "metadata": {},
     "output_type": "execute_result"
    }
   ],
   "source": [
    "classes[1000]"
   ]
  },
  {
   "cell_type": "code",
   "execution_count": 21,
   "metadata": {},
   "outputs": [
    {
     "data": {
      "text/plain": [
       "(array([[0.75331473, 0.50354082, 0.50363902, 0.49748134, 0.50024437,\n",
       "         0.50047313],\n",
       "        [0.75331473, 0.5031681 , 0.50327512, 0.49717419, 0.50056512,\n",
       "         0.50033577],\n",
       "        [0.75331473, 0.50242267, 0.50109171, 0.49660595, 0.5005804 ,\n",
       "         0.50053418],\n",
       "        [0.75261689, 0.5031681 , 0.50072781, 0.49628344, 0.50105388,\n",
       "         0.50067154],\n",
       "        [0.75331473, 0.50242267, 0.50181952, 0.49623737, 0.50123716,\n",
       "         0.50047313],\n",
       "        [0.75401257, 0.50242267, 0.50145562, 0.49634487, 0.50258125,\n",
       "         0.50122099],\n",
       "        [0.75540825, 0.50055908, 0.50218342, 0.49525448, 0.50432245,\n",
       "         0.50125152],\n",
       "        [0.75191906, 0.5009318 , 0.4967249 , 0.4966981 , 0.50213831,\n",
       "         0.50061049],\n",
       "        [0.75157014, 0.50130452, 0.4970888 , 0.49858709, 0.50065676,\n",
       "         0.50086996],\n",
       "        [0.75296581, 0.49534104, 0.4959971 , 0.50067574, 0.50218413,\n",
       "         0.49996947]]),\n",
       " array([4, 4, 4, 4, 4, 4, 4, 4, 4, 6]))"
      ]
     },
     "execution_count": 21,
     "metadata": {},
     "output_type": "execute_result"
    }
   ],
   "source": [
    "dataset[983]"
   ]
  }
 ],
 "metadata": {
  "kernelspec": {
   "display_name": "dev",
   "language": "python",
   "name": "python3"
  },
  "language_info": {
   "codemirror_mode": {
    "name": "ipython",
    "version": 3
   },
   "file_extension": ".py",
   "mimetype": "text/x-python",
   "name": "python",
   "nbconvert_exporter": "python",
   "pygments_lexer": "ipython3",
   "version": "3.10.13"
  }
 },
 "nbformat": 4,
 "nbformat_minor": 2
}

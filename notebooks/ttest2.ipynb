{
 "cells": [
  {
   "cell_type": "code",
   "execution_count": 1,
   "metadata": {},
   "outputs": [],
   "source": [
    "import numpy as np\n",
    "import torch\n",
    "\n",
    "import pandas as pd"
   ]
  },
  {
   "cell_type": "code",
   "execution_count": 2,
   "metadata": {},
   "outputs": [],
   "source": [
    "from data_2.har.har_datasets import load_dataset"
   ]
  },
  {
   "cell_type": "code",
   "execution_count": 3,
   "metadata": {},
   "outputs": [],
   "source": [
    "from data_2.base import STSDataset"
   ]
  },
  {
   "cell_type": "code",
   "execution_count": 4,
   "metadata": {},
   "outputs": [],
   "source": [
    "dt = load_dataset(\"./datasets/UCI-HAPT\")"
   ]
  },
  {
   "cell_type": "code",
   "execution_count": 5,
   "metadata": {},
   "outputs": [],
   "source": [
    "dataset = STSDataset(dt, 10, 1, None, None)"
   ]
  },
  {
   "cell_type": "code",
   "execution_count": 9,
   "metadata": {},
   "outputs": [
    {
     "data": {
      "text/plain": [
       "array([  20598,   39884,   57910,   74475,   95469,  112962,  130630,\n",
       "        146518,  163382,  178420,  194942,  227031,  244226,  260254,\n",
       "        275804,  292160,  308404,  324025,  339764,  351365,  361263,\n",
       "        377700,  394230,  410862,  427022,  444823,  462007,  479470,\n",
       "        496029,  513208,  530386,  551458,  572597,  593900,  613435,\n",
       "        635834,  655892,  674991,  692828,  712521,  730484,  751290,\n",
       "        770774,  788706,  806258,  826323,  844309,  865031,  884457,\n",
       "        905687,  926039,  946717,  967033,  985286, 1004201, 1024757,\n",
       "       1043593, 1062244, 1080152, 1103690, 1122772])"
      ]
     },
     "execution_count": 9,
     "metadata": {},
     "output_type": "execute_result"
    }
   ],
   "source": [
    "np.cumsum(dataset.splits)"
   ]
  }
 ],
 "metadata": {
  "kernelspec": {
   "display_name": "dev",
   "language": "python",
   "name": "python3"
  },
  "language_info": {
   "codemirror_mode": {
    "name": "ipython",
    "version": 3
   },
   "file_extension": ".py",
   "mimetype": "text/x-python",
   "name": "python",
   "nbconvert_exporter": "python",
   "pygments_lexer": "ipython3",
   "version": "3.10.13"
  }
 },
 "nbformat": 4,
 "nbformat_minor": 2
}

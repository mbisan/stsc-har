{
 "cells": [
  {
   "cell_type": "code",
   "execution_count": 1,
   "metadata": {},
   "outputs": [],
   "source": [
    "import numpy as np\n",
    "import torch\n",
    "\n",
    "import pandas as pd\n",
    "import matplotlib.pyplot as plt"
   ]
  },
  {
   "cell_type": "code",
   "execution_count": 2,
   "metadata": {},
   "outputs": [],
   "source": [
    "from utils.arguments import get_parser, get_model_name\n",
    "from utils.helper_functions import load_dm"
   ]
  },
  {
   "cell_type": "code",
   "execution_count": 3,
   "metadata": {},
   "outputs": [
    {
     "name": "stderr",
     "output_type": "stream",
     "text": [
      "Seed set to 42\n"
     ]
    },
    {
     "name": "stdout",
     "output_type": "stream",
     "text": [
      "Using 532420 observations for training, 107125 for validation and 143333 for test\n"
     ]
    }
   ],
   "source": [
    "parser = get_parser()\n",
    "args = parser.parse_args('''\n",
    "--dataset UCI-HAPT --batch_size 128 --window_size 40 --normalize --subjects_for_test 21 20 19 18 17 \n",
    "--max_epochs 10 --lr 0.01 --training_dir training_clr --n_val_subjects 4 --reduce_imbalance\n",
    "--encoder_architecture cnn_gap_ts --encoder_features 20 --cf 0.001 --mode img --pattern_size 30'''.split())\n",
    "\n",
    "dm = load_dm(args)"
   ]
  },
  {
   "cell_type": "code",
   "execution_count": 4,
   "metadata": {},
   "outputs": [
    {
     "data": {
      "text/plain": [
       "'UCI-HAPTb128n4w40w1np30c500s21-20-19-18-17cnn_gap_tsmlpm10l1.0E-02e20d1imgrl1n1v1r1.0E-01o-1m10n4w0w0c1.0E-03e1r42'"
      ]
     },
     "execution_count": 4,
     "metadata": {},
     "output_type": "execute_result"
    }
   ],
   "source": [
    "get_model_name(args)"
   ]
  }
 ],
 "metadata": {
  "kernelspec": {
   "display_name": "dev",
   "language": "python",
   "name": "python3"
  },
  "language_info": {
   "codemirror_mode": {
    "name": "ipython",
    "version": 3
   },
   "file_extension": ".py",
   "mimetype": "text/x-python",
   "name": "python",
   "nbconvert_exporter": "python",
   "pygments_lexer": "ipython3",
   "version": "3.10.13"
  }
 },
 "nbformat": 4,
 "nbformat_minor": 2
}
